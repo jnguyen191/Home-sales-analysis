{
  "nbformat": 4,
  "nbformat_minor": 0,
  "metadata": {
    "colab": {
      "provenance": []
    },
    "kernelspec": {
      "name": "python3",
      "display_name": "Python 3"
    },
    "language_info": {
      "name": "python"
    }
  },
  "cells": [
    {
      "cell_type": "code",
      "execution_count": 1,
      "metadata": {
        "colab": {
          "base_uri": "https://localhost:8080/"
        },
        "id": "UC-qS_SCP722",
        "outputId": "a56e4b82-8da2-46b1-b8c1-d02f69ee253a"
      },
      "outputs": [
        {
          "output_type": "stream",
          "name": "stdout",
          "text": [
            "\r0% [Working]\r            \rHit:1 https://developer.download.nvidia.com/compute/cuda/repos/ubuntu2004/x86_64  InRelease\n",
            "\r0% [Waiting for headers] [Connecting to security.ubuntu.com (185.125.190.39)] [\r                                                                               \rHit:2 http://ppa.launchpad.net/c2d4u.team/c2d4u4.0+/ubuntu focal InRelease\n",
            "Hit:3 http://archive.ubuntu.com/ubuntu focal InRelease\n",
            "Hit:4 https://cloud.r-project.org/bin/linux/ubuntu focal-cran40/ InRelease\n",
            "Get:5 http://security.ubuntu.com/ubuntu focal-security InRelease [114 kB]\n",
            "Get:6 http://archive.ubuntu.com/ubuntu focal-updates InRelease [114 kB]\n",
            "Hit:7 http://ppa.launchpad.net/cran/libgit2/ubuntu focal InRelease\n",
            "Hit:8 http://ppa.launchpad.net/deadsnakes/ppa/ubuntu focal InRelease\n",
            "Get:9 http://archive.ubuntu.com/ubuntu focal-backports InRelease [108 kB]\n",
            "Hit:10 http://ppa.launchpad.net/graphics-drivers/ppa/ubuntu focal InRelease\n",
            "Hit:11 http://ppa.launchpad.net/ubuntugis/ppa/ubuntu focal InRelease\n",
            "Fetched 336 kB in 2s (177 kB/s)\n",
            "Reading package lists... Done\n"
          ]
        }
      ],
      "source": [
        "import os\n",
        "# Find the latest version of spark 3.x  from http://www.apache.org/dist/spark/ and enter as the spark version\n",
        "# For example:\n",
        "# spark_version = 'spark-3.3.1'\n",
        "spark_version = 'spark-3.3.2'\n",
        "os.environ['SPARK_VERSION']=spark_version\n",
        "\n",
        "# Install Spark and Java\n",
        "!apt-get update\n",
        "!apt-get install openjdk-11-jdk-headless -qq > /dev/null\n",
        "!wget -q http://www.apache.org/dist/spark/$SPARK_VERSION/$SPARK_VERSION-bin-hadoop3.tgz\n",
        "!tar xf $SPARK_VERSION-bin-hadoop3.tgz\n",
        "!pip install -q findspark\n",
        "\n",
        "# Set Environment Variables\n",
        "os.environ[\"JAVA_HOME\"] = \"/usr/lib/jvm/java-11-openjdk-amd64\"\n",
        "os.environ[\"SPARK_HOME\"] = f\"/content/{spark_version}-bin-hadoop3\"\n",
        "\n",
        "# Start a SparkSession\n",
        "import findspark\n",
        "findspark.init()"
      ]
    },
    {
      "cell_type": "code",
      "source": [
        "# Import packages\n",
        "from pyspark.sql import SparkSession\n",
        "import time\n",
        "\n",
        "# Create a SparkSession\n",
        "spark = SparkSession.builder.appName(\"SparkSQL\").getOrCreate()"
      ],
      "metadata": {
        "id": "5sFN__YmRb-z"
      },
      "execution_count": 2,
      "outputs": []
    },
    {
      "cell_type": "code",
      "source": [
        "# 1. Read in the AWS S3 bucket into a DataFrame.\n",
        "from pyspark import SparkFiles\n",
        "url = \"https://2u-data-curriculum-team.s3.amazonaws.com/dataviz-classroom/v1.2/22-big-data/home_sales_revised.csv\""
      ],
      "metadata": {
        "id": "cz8gSNL3RiRS"
      },
      "execution_count": 3,
      "outputs": []
    },
    {
      "cell_type": "code",
      "source": [
        "\n",
        "spark.sparkContext.addFile(url)\n",
        "\n",
        "df = spark.read.csv(SparkFiles.get(\"home_sales_revised.csv\"), sep=\",\", header=True)\n",
        "df.show()"
      ],
      "metadata": {
        "colab": {
          "base_uri": "https://localhost:8080/"
        },
        "id": "pDE4Pni6Rkyq",
        "outputId": "68790b6b-21b8-4ab1-98c5-531f6b81f406"
      },
      "execution_count": 4,
      "outputs": [
        {
          "output_type": "stream",
          "name": "stdout",
          "text": [
            "+--------------------+----------+----------+------+--------+---------+-----------+--------+------+----------+----+\n",
            "|                  id|      date|date_built| price|bedrooms|bathrooms|sqft_living|sqft_lot|floors|waterfront|view|\n",
            "+--------------------+----------+----------+------+--------+---------+-----------+--------+------+----------+----+\n",
            "|f8a53099-ba1c-47d...|2022-04-08|      2016|936923|       4|        3|       3167|   11733|     2|         1|  76|\n",
            "|7530a2d8-1ae3-451...|2021-06-13|      2013|379628|       2|        2|       2235|   14384|     1|         0|  23|\n",
            "|43de979c-0bf0-4c9...|2019-04-12|      2014|417866|       2|        2|       2127|   10575|     2|         0|   0|\n",
            "|b672c137-b88c-48b...|2019-10-16|      2016|239895|       2|        2|       1631|   11149|     2|         0|   0|\n",
            "|e0726d4d-d595-407...|2022-01-08|      2017|424418|       3|        2|       2249|   13878|     2|         0|   4|\n",
            "|5aa00529-0533-46b...|2019-01-30|      2017|218712|       2|        3|       1965|   14375|     2|         0|   7|\n",
            "|131492a1-72e2-4a8...|2020-02-08|      2017|419199|       2|        3|       2062|    8876|     2|         0|   6|\n",
            "|8d54a71b-c520-44e...|2019-07-21|      2010|323956|       2|        3|       1506|   11816|     1|         0|  25|\n",
            "|e81aacfe-17fe-46b...|2020-06-16|      2016|181925|       3|        3|       2137|   11709|     2|         0|  22|\n",
            "|2ed8d509-7372-46d...|2021-08-06|      2015|258710|       3|        3|       1918|    9666|     1|         0|  25|\n",
            "|f876d86f-3c9f-42b...|2019-02-27|      2011|167864|       3|        3|       2471|   13924|     2|         0|  15|\n",
            "|0a2bd445-8508-4d8...|2021-12-30|      2014|337527|       2|        3|       1926|   12556|     1|         0|  23|\n",
            "|941bad30-eb49-4a7...|2020-05-09|      2015|229896|       3|        3|       2197|    8641|     1|         0|   3|\n",
            "|dd61eb34-6589-4c0...|2021-07-25|      2016|210247|       3|        2|       1672|   11986|     2|         0|  28|\n",
            "|f1e4cef7-d151-439...|2019-02-01|      2011|398667|       2|        3|       2331|   11356|     1|         0|   7|\n",
            "|ea620c7b-c2f7-4c6...|2021-05-31|      2011|437958|       3|        3|       2356|   11052|     1|         0|  26|\n",
            "|f233cb41-6f33-4b0...|2021-07-18|      2016|437375|       4|        3|       1704|   11721|     2|         0|  34|\n",
            "|c797ca12-52cd-4b1...|2019-06-08|      2015|288650|       2|        3|       2100|   10419|     2|         0|   7|\n",
            "|0cfe57f3-28c2-472...|2019-10-04|      2015|308313|       3|        3|       1960|    9453|     2|         0|   2|\n",
            "|4566cd2a-ac6e-435...|2019-07-15|      2016|177541|       3|        3|       2130|   10517|     2|         0|  25|\n",
            "+--------------------+----------+----------+------+--------+---------+-----------+--------+------+----------+----+\n",
            "only showing top 20 rows\n",
            "\n"
          ]
        }
      ]
    },
    {
      "cell_type": "code",
      "source": [
        "# 2. Create a temporary view of the DataFrame.\n",
        "\n",
        "df.createOrReplaceTempView(\"my_table\")\n",
        "\n",
        "result = spark.sql(\"SELECT * FROM my_table\")\n",
        "\n",
        "result.show()"
      ],
      "metadata": {
        "colab": {
          "base_uri": "https://localhost:8080/"
        },
        "id": "p2-sIHr4bSjq",
        "outputId": "5ec1cbcf-7728-4d6f-b12b-aeae1195c0dc"
      },
      "execution_count": 5,
      "outputs": [
        {
          "output_type": "stream",
          "name": "stdout",
          "text": [
            "+--------------------+----------+----------+------+--------+---------+-----------+--------+------+----------+----+\n",
            "|                  id|      date|date_built| price|bedrooms|bathrooms|sqft_living|sqft_lot|floors|waterfront|view|\n",
            "+--------------------+----------+----------+------+--------+---------+-----------+--------+------+----------+----+\n",
            "|f8a53099-ba1c-47d...|2022-04-08|      2016|936923|       4|        3|       3167|   11733|     2|         1|  76|\n",
            "|7530a2d8-1ae3-451...|2021-06-13|      2013|379628|       2|        2|       2235|   14384|     1|         0|  23|\n",
            "|43de979c-0bf0-4c9...|2019-04-12|      2014|417866|       2|        2|       2127|   10575|     2|         0|   0|\n",
            "|b672c137-b88c-48b...|2019-10-16|      2016|239895|       2|        2|       1631|   11149|     2|         0|   0|\n",
            "|e0726d4d-d595-407...|2022-01-08|      2017|424418|       3|        2|       2249|   13878|     2|         0|   4|\n",
            "|5aa00529-0533-46b...|2019-01-30|      2017|218712|       2|        3|       1965|   14375|     2|         0|   7|\n",
            "|131492a1-72e2-4a8...|2020-02-08|      2017|419199|       2|        3|       2062|    8876|     2|         0|   6|\n",
            "|8d54a71b-c520-44e...|2019-07-21|      2010|323956|       2|        3|       1506|   11816|     1|         0|  25|\n",
            "|e81aacfe-17fe-46b...|2020-06-16|      2016|181925|       3|        3|       2137|   11709|     2|         0|  22|\n",
            "|2ed8d509-7372-46d...|2021-08-06|      2015|258710|       3|        3|       1918|    9666|     1|         0|  25|\n",
            "|f876d86f-3c9f-42b...|2019-02-27|      2011|167864|       3|        3|       2471|   13924|     2|         0|  15|\n",
            "|0a2bd445-8508-4d8...|2021-12-30|      2014|337527|       2|        3|       1926|   12556|     1|         0|  23|\n",
            "|941bad30-eb49-4a7...|2020-05-09|      2015|229896|       3|        3|       2197|    8641|     1|         0|   3|\n",
            "|dd61eb34-6589-4c0...|2021-07-25|      2016|210247|       3|        2|       1672|   11986|     2|         0|  28|\n",
            "|f1e4cef7-d151-439...|2019-02-01|      2011|398667|       2|        3|       2331|   11356|     1|         0|   7|\n",
            "|ea620c7b-c2f7-4c6...|2021-05-31|      2011|437958|       3|        3|       2356|   11052|     1|         0|  26|\n",
            "|f233cb41-6f33-4b0...|2021-07-18|      2016|437375|       4|        3|       1704|   11721|     2|         0|  34|\n",
            "|c797ca12-52cd-4b1...|2019-06-08|      2015|288650|       2|        3|       2100|   10419|     2|         0|   7|\n",
            "|0cfe57f3-28c2-472...|2019-10-04|      2015|308313|       3|        3|       1960|    9453|     2|         0|   2|\n",
            "|4566cd2a-ac6e-435...|2019-07-15|      2016|177541|       3|        3|       2130|   10517|     2|         0|  25|\n",
            "+--------------------+----------+----------+------+--------+---------+-----------+--------+------+----------+----+\n",
            "only showing top 20 rows\n",
            "\n"
          ]
        }
      ]
    },
    {
      "cell_type": "code",
      "source": [
        "column_names = df.columns\n",
        "print(column_names)"
      ],
      "metadata": {
        "colab": {
          "base_uri": "https://localhost:8080/"
        },
        "id": "lG-15IEacBEA",
        "outputId": "1360f803-3374-48da-f6fb-6e4f0aa7d091"
      },
      "execution_count": 6,
      "outputs": [
        {
          "output_type": "stream",
          "name": "stdout",
          "text": [
            "['id', 'date', 'date_built', 'price', 'bedrooms', 'bathrooms', 'sqft_living', 'sqft_lot', 'floors', 'waterfront', 'view']\n"
          ]
        }
      ]
    },
    {
      "cell_type": "code",
      "source": [
        "# 3. What is the average price for a four bedroom house sold in each year rounded to two decimal places?\n",
        "from pyspark.sql.functions import year, round\n",
        "\n",
        "# Execute SQL query to calculate average price for four-bedroom houses in each year\n",
        "query = \"SELECT YEAR(date) AS year, ROUND(AVG(price), 2) AS avg_price FROM my_table WHERE bedrooms = 4 GROUP BY YEAR(date)\"\n",
        "\n",
        "# Execute the query and store the result in a new DataFrame\n",
        "fourbed_avgprice = spark.sql(query)\n",
        "\n",
        "# Show the result\n",
        "fourbed_avgprice.show()\n"
      ],
      "metadata": {
        "colab": {
          "base_uri": "https://localhost:8080/"
        },
        "id": "s_pLYGdib4q_",
        "outputId": "5205317a-493c-4094-916a-530357a20888"
      },
      "execution_count": 7,
      "outputs": [
        {
          "output_type": "stream",
          "name": "stdout",
          "text": [
            "+----+---------+\n",
            "|year|avg_price|\n",
            "+----+---------+\n",
            "|2022|296363.88|\n",
            "|2019| 300263.7|\n",
            "|2020|298353.78|\n",
            "|2021|301819.44|\n",
            "+----+---------+\n",
            "\n"
          ]
        }
      ]
    },
    {
      "cell_type": "code",
      "source": [
        "# 4. What is the average price of a home for each year the home was built that have 3 bedrooms and 3 bathrooms rounded to two decimal places?\n",
        "\n",
        "# Execute SQL query to calculate average price for 3-bedroom, 3-bathroom homes in each year\n",
        "query = \"SELECT date_built, ROUND(AVG(price), 2) AS avg_price FROM my_table WHERE bedrooms = 3 AND bathrooms = 3 GROUP BY date_built\"\n",
        "\n",
        "# Execute the query and store the result in a new DataFrame\n",
        "threebedthreebath_avg_price = spark.sql(query)\n",
        "\n",
        "# Show the result\n",
        "threebedthreebath_avg_price.show()"
      ],
      "metadata": {
        "colab": {
          "base_uri": "https://localhost:8080/"
        },
        "id": "H8nkz91efukq",
        "outputId": "0c10526f-ee26-493d-fded-b37150d8eaec"
      },
      "execution_count": 8,
      "outputs": [
        {
          "output_type": "stream",
          "name": "stdout",
          "text": [
            "+----------+---------+\n",
            "|date_built|avg_price|\n",
            "+----------+---------+\n",
            "|      2016|290555.07|\n",
            "|      2012|293683.19|\n",
            "|      2017|292676.79|\n",
            "|      2014|290852.27|\n",
            "|      2013|295962.27|\n",
            "|      2011|291117.47|\n",
            "|      2015| 288770.3|\n",
            "|      2010|292859.62|\n",
            "+----------+---------+\n",
            "\n"
          ]
        }
      ]
    },
    {
      "cell_type": "code",
      "source": [
        "#  5. What is the average price of a home for each year built that have 3 bedrooms, 3 bathrooms, with two floors,\n",
        "# and are greater than or equal to 2,000 square feet rounded to two decimal places?\n",
        "\n",
        "# Execute SQL query to calculate average price for the specified criteria in each year\n",
        "query = \"SELECT date_built, ROUND(AVG(price), 2) AS avg_price FROM my_table WHERE bedrooms = 3 AND bathrooms = 3 AND floors = 2 AND sqft_living >= 2000 GROUP BY date_built\"\n",
        "\n",
        "# Execute the query and store the result in a new DataFrame\n",
        "threebedbath2000_avgprice = spark.sql(query)\n",
        "\n",
        "# Show the result\n",
        "threebedbath2000_avgprice.show()"
      ],
      "metadata": {
        "colab": {
          "base_uri": "https://localhost:8080/"
        },
        "id": "kFdaMIdPhx7z",
        "outputId": "1a15be5c-dcf9-4a7e-ab6b-1f5ec51b5425"
      },
      "execution_count": 10,
      "outputs": [
        {
          "output_type": "stream",
          "name": "stdout",
          "text": [
            "+----------+---------+\n",
            "|date_built|avg_price|\n",
            "+----------+---------+\n",
            "|      2016| 293965.1|\n",
            "|      2012|307539.97|\n",
            "|      2017|280317.58|\n",
            "|      2014|298264.72|\n",
            "|      2013|303676.79|\n",
            "|      2011|276553.81|\n",
            "|      2015|297609.97|\n",
            "|      2010|285010.22|\n",
            "+----------+---------+\n",
            "\n"
          ]
        }
      ]
    },
    {
      "cell_type": "code",
      "source": [
        "# 6. What is the \"view\" rating for the average price of a home, rounded to two decimal places, where the homes are greater than\n",
        "# or equal to $350,000? Although this is a small dataset, determine the run time for this query.\n",
        "\n",
        "import time\n",
        "\n",
        "# Start the timer\n",
        "start_time = time.time()\n",
        "\n",
        "# Execute SQL query to calculate the average price and view rating for homes greater than or equal to $350,000\n",
        "query = \"SELECT ROUND(AVG(price), 2) AS avg_price, AVG(view) AS avg_view FROM my_table WHERE price >= 350000\"\n",
        "\n",
        "# Execute the query and store the result in a new DataFrame\n",
        "viewrating = spark.sql(query)\n",
        "\n",
        "# Show the result\n",
        "viewrating.show()\n",
        "\n",
        "# Calculate the runtime\n",
        "runtime = time.time() - start_time\n",
        "print(\"Runtime: %.2f seconds\" % runtime)"
      ],
      "metadata": {
        "colab": {
          "base_uri": "https://localhost:8080/"
        },
        "id": "vDOPH1gxiHrp",
        "outputId": "223372ef-9a3d-4262-f696-4769fd429c5a"
      },
      "execution_count": 11,
      "outputs": [
        {
          "output_type": "stream",
          "name": "stdout",
          "text": [
            "+---------+--------+\n",
            "|avg_price|avg_view|\n",
            "+---------+--------+\n",
            "|473796.26|  32.264|\n",
            "+---------+--------+\n",
            "\n",
            "Runtime: 0.88 seconds\n"
          ]
        }
      ]
    },
    {
      "cell_type": "code",
      "source": [
        "# 7. Cache the the temporary table home_sales.\n",
        "\n",
        "df.createOrReplaceTempView(\"home_sales\")\n",
        "spark.table(\"home_sales\").cache()"
      ],
      "metadata": {
        "colab": {
          "base_uri": "https://localhost:8080/"
        },
        "id": "BPjvWEHwidws",
        "outputId": "7edf6e1a-4729-44eb-dd89-da395018fbe3"
      },
      "execution_count": 12,
      "outputs": [
        {
          "output_type": "execute_result",
          "data": {
            "text/plain": [
              "DataFrame[id: string, date: string, date_built: string, price: string, bedrooms: string, bathrooms: string, sqft_living: string, sqft_lot: string, floors: string, waterfront: string, view: string]"
            ]
          },
          "metadata": {},
          "execution_count": 12
        }
      ]
    },
    {
      "cell_type": "code",
      "source": [
        "# 8. Check if the table is cached.\n",
        "\n",
        "is_cached = spark.catalog.isCached(\"home_sales\")\n",
        "if is_cached:\n",
        "    print(\"The table is cached.\")\n",
        "else:\n",
        "    print(\"The table is not cached.\")"
      ],
      "metadata": {
        "colab": {
          "base_uri": "https://localhost:8080/"
        },
        "id": "kTps05v3jAXv",
        "outputId": "1f607e07-bab7-4695-c07e-7a846f386832"
      },
      "execution_count": 13,
      "outputs": [
        {
          "output_type": "stream",
          "name": "stdout",
          "text": [
            "The table is cached.\n"
          ]
        }
      ]
    },
    {
      "cell_type": "code",
      "source": [
        "# 9. Using the cached data, run the query that filters out the view ratings with average price \n",
        "#  greater than or equal to $350,000. Determine the runtime and compare it to uncached runtime.\n",
        "\n",
        "# Run the query on uncached data and record the runtime\n",
        "uncached_start_time = time.time()\n",
        "uncached_result = spark.sql(\"SELECT AVG(price) AS AveragePrice FROM home_sales WHERE price >= 350000\")\n",
        "uncached_runtime = time.time() - uncached_start_time\n",
        "uncached_result.show()\n",
        "\n",
        "# Cache the table\n",
        "spark.catalog.cacheTable(\"home_sales\")\n",
        "\n",
        "# Run the query on cached data and record the runtime\n",
        "cached_start_time = time.time()\n",
        "cached_result = spark.sql(\"SELECT AVG(price) AS AveragePrice FROM home_sales WHERE price >= 350000\")\n",
        "cached_runtime = time.time() - cached_start_time\n",
        "cached_result.show()\n",
        "\n",
        "# Compare the runtimes\n",
        "print(\"Uncached Runtime:\", uncached_runtime)\n",
        "print(\"Cached Runtime:\", cached_runtime)\n",
        "\n",
        "# Compare the runtimes\n",
        "print(\"Cached runtime improvement:\", uncached_runtime - cached_runtime)\n"
      ],
      "metadata": {
        "colab": {
          "base_uri": "https://localhost:8080/"
        },
        "id": "9540yrkDjHJ9",
        "outputId": "363be169-cf77-4bb6-8dd4-2d5f8a1538cf"
      },
      "execution_count": 15,
      "outputs": [
        {
          "output_type": "stream",
          "name": "stdout",
          "text": [
            "+------------------+\n",
            "|      AveragePrice|\n",
            "+------------------+\n",
            "|473796.26220224716|\n",
            "+------------------+\n",
            "\n",
            "+------------------+\n",
            "|      AveragePrice|\n",
            "+------------------+\n",
            "|473796.26220224716|\n",
            "+------------------+\n",
            "\n",
            "Uncached Runtime: 0.033418893814086914\n",
            "Cached Runtime: 0.031675100326538086\n",
            "Cached runtime improvement: 0.0017437934875488281\n"
          ]
        }
      ]
    },
    {
      "cell_type": "code",
      "source": [
        "# 10. Partition by the \"date_built\" field on the formatted parquet home sales data\n",
        "\n",
        "df.write.mode(\"overwrite\").partitionBy(\"date_built\").parquet(\"output.parquet\")\n"
      ],
      "metadata": {
        "id": "rO1Sps09jSAo"
      },
      "execution_count": 16,
      "outputs": []
    },
    {
      "cell_type": "code",
      "source": [
        "# 11. Read the formatted parquet data.\n",
        "\n",
        "parquet_df = spark.read.format(\"parquet\").load(\"output.parquet\")\n"
      ],
      "metadata": {
        "id": "9cp8rLQYjiMl"
      },
      "execution_count": 17,
      "outputs": []
    },
    {
      "cell_type": "code",
      "source": [
        "# 12. Create a temporary table for the parquet data.\n",
        "\n",
        "parquet_df.createOrReplaceTempView(\"parquet_table\")\n"
      ],
      "metadata": {
        "id": "iFgSNmkajsXd"
      },
      "execution_count": 18,
      "outputs": []
    },
    {
      "cell_type": "code",
      "source": [
        "# 13. Run the query that filters out the view ratings with average price of greater than or eqaul to $350,000 \n",
        "# with the parquet DataFrame. Round your average to two decimal places. \n",
        "\n",
        "query = \"SELECT view, ROUND(AVG(price), 2) AS AveragePrice FROM parquet_table WHERE price >= 350000 GROUP BY view\"\n",
        "result = spark.sql(query)\n",
        "result.show()\n",
        "\n",
        "# Determine the runtime and compare it to the cached version.\n",
        "\n",
        "import time\n",
        "\n",
        "start_time = time.time()\n",
        "\n",
        "# Execute the query\n",
        "result = spark.sql(query)\n",
        "result.show()\n",
        "\n",
        "end_time = time.time()\n",
        "runtime = end_time - start_time\n",
        "print(\"Runtime:\", runtime, \"seconds\")\n"
      ],
      "metadata": {
        "colab": {
          "base_uri": "https://localhost:8080/"
        },
        "id": "N9sDOua5jxKv",
        "outputId": "61bfd550-a884-4f41-f4f2-06df32105e27"
      },
      "execution_count": 19,
      "outputs": [
        {
          "output_type": "stream",
          "name": "stdout",
          "text": [
            "+----+------------+\n",
            "|view|AveragePrice|\n",
            "+----+------------+\n",
            "|   7|   403005.77|\n",
            "|  51|   788128.21|\n",
            "|  15|    404673.3|\n",
            "|  54|   798684.82|\n",
            "|  11|   399548.12|\n",
            "|  29|   397771.65|\n",
            "|  69|   750537.94|\n",
            "|  42|    396964.5|\n",
            "|  73|   752861.18|\n",
            "|  87|   1072285.2|\n",
            "|  64|   767036.67|\n",
            "|   3|    398867.6|\n",
            "|  30|    397862.0|\n",
            "|  34|   401419.75|\n",
            "|  59|    791453.0|\n",
            "|   8|   398592.71|\n",
            "|  28|   402124.62|\n",
            "|  22|   402022.68|\n",
            "|  85|  1056336.74|\n",
            "|  35|   401934.21|\n",
            "+----+------------+\n",
            "only showing top 20 rows\n",
            "\n",
            "+----+------------+\n",
            "|view|AveragePrice|\n",
            "+----+------------+\n",
            "|   7|   403005.77|\n",
            "|  51|   788128.21|\n",
            "|  15|    404673.3|\n",
            "|  54|   798684.82|\n",
            "|  11|   399548.12|\n",
            "|  29|   397771.65|\n",
            "|  69|   750537.94|\n",
            "|  42|    396964.5|\n",
            "|  73|   752861.18|\n",
            "|  87|   1072285.2|\n",
            "|  64|   767036.67|\n",
            "|   3|    398867.6|\n",
            "|  30|    397862.0|\n",
            "|  34|   401419.75|\n",
            "|  59|    791453.0|\n",
            "|   8|   398592.71|\n",
            "|  28|   402124.62|\n",
            "|  22|   402022.68|\n",
            "|  85|  1056336.74|\n",
            "|  35|   401934.21|\n",
            "+----+------------+\n",
            "only showing top 20 rows\n",
            "\n",
            "Runtime: 0.721879243850708 seconds\n"
          ]
        }
      ]
    },
    {
      "cell_type": "code",
      "source": [
        "# 14. Uncache the home_sales temporary table.\n",
        "\n",
        "spark.catalog.uncacheTable(\"my_table\")"
      ],
      "metadata": {
        "id": "qulkhpMnkNSa"
      },
      "execution_count": 20,
      "outputs": []
    },
    {
      "cell_type": "code",
      "source": [
        "# 15. Check if the home_sales is no longer cached\n",
        "\n",
        "is_cached = spark.catalog.isCached(\"home_sales\")\n",
        "print(is_cached)"
      ],
      "metadata": {
        "colab": {
          "base_uri": "https://localhost:8080/"
        },
        "id": "t4ZKnFvOkb95",
        "outputId": "538c76cc-121e-4724-e6f0-68677cba1954"
      },
      "execution_count": 21,
      "outputs": [
        {
          "output_type": "stream",
          "name": "stdout",
          "text": [
            "False\n"
          ]
        }
      ]
    }
  ]
}